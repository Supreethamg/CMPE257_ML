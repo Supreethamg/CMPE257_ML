{
 "cells": [
  {
   "cell_type": "code",
   "execution_count": 23,
   "metadata": {},
   "outputs": [],
   "source": [
    "import pandas as pd\n",
    "from sklearn.cluster import KMeans\n",
    "import matplotlib as mpl\n",
    "import collections\n",
    "import matplotlib.pyplot as plt\n",
    "from matplotlib import colors\n",
    "import pylab as plt\n",
    "\n",
    "import numpy as np\n",
    "from scipy import stats\n",
    "import datetime\n",
    "\n",
    "from sklearn.linear_model import LinearRegression\n",
    "from sklearn.cross_validation import train_test_split\n",
    "from sklearn.metrics import accuracy_score\n",
    "import statsmodels.api as sm\n",
    "\n",
    "\n",
    "%matplotlib inline\n",
    "\n",
    "\n",
    "import scipy.stats as stats\n",
    "\n",
    "import sklearn\n",
    "import statsmodels.api as sm\n",
    "\n",
    "from scipy.stats import mode\n",
    "\n",
    "import seaborn as sns\n",
    "sns.set_style(\"whitegrid\")\n",
    "sns.set_context(\"poster\")"
   ]
  },
  {
   "cell_type": "code",
   "execution_count": 3,
   "metadata": {},
   "outputs": [],
   "source": [
    "data1 = pd.read_csv(r'/Users/Supreetha/Downloads/UsedCarMaster.csv')\n",
    "df1 = data1.dropna(subset=['maker'])"
   ]
  },
  {
   "cell_type": "code",
   "execution_count": 4,
   "metadata": {},
   "outputs": [
    {
     "data": {
      "text/html": [
       "<div>\n",
       "<style scoped>\n",
       "    .dataframe tbody tr th:only-of-type {\n",
       "        vertical-align: middle;\n",
       "    }\n",
       "\n",
       "    .dataframe tbody tr th {\n",
       "        vertical-align: top;\n",
       "    }\n",
       "\n",
       "    .dataframe thead th {\n",
       "        text-align: right;\n",
       "    }\n",
       "</style>\n",
       "<table border=\"1\" class=\"dataframe\">\n",
       "  <thead>\n",
       "    <tr style=\"text-align: right;\">\n",
       "      <th></th>\n",
       "      <th>maker</th>\n",
       "      <th>model</th>\n",
       "      <th>mileage</th>\n",
       "      <th>manufacture_year</th>\n",
       "      <th>engine_displacement</th>\n",
       "      <th>engine_power</th>\n",
       "      <th>body_type</th>\n",
       "      <th>color_slug</th>\n",
       "      <th>stk_year</th>\n",
       "      <th>transmission</th>\n",
       "      <th>door_count</th>\n",
       "      <th>seat_count</th>\n",
       "      <th>fuel_type</th>\n",
       "      <th>date_created</th>\n",
       "      <th>date_last_seen</th>\n",
       "      <th>price_eur</th>\n",
       "    </tr>\n",
       "  </thead>\n",
       "  <tbody>\n",
       "    <tr>\n",
       "      <th>0</th>\n",
       "      <td>ford</td>\n",
       "      <td>galaxy</td>\n",
       "      <td>151000.0</td>\n",
       "      <td>2011.0</td>\n",
       "      <td>2000.0</td>\n",
       "      <td>103.0</td>\n",
       "      <td>NaN</td>\n",
       "      <td>NaN</td>\n",
       "      <td>None</td>\n",
       "      <td>man</td>\n",
       "      <td>5</td>\n",
       "      <td>7</td>\n",
       "      <td>diesel</td>\n",
       "      <td>2015-11-14 18:10:06.838319+00</td>\n",
       "      <td>2016-01-27 20:40:15.46361+00</td>\n",
       "      <td>10584.75</td>\n",
       "    </tr>\n",
       "    <tr>\n",
       "      <th>1</th>\n",
       "      <td>skoda</td>\n",
       "      <td>octavia</td>\n",
       "      <td>143476.0</td>\n",
       "      <td>2012.0</td>\n",
       "      <td>2000.0</td>\n",
       "      <td>81.0</td>\n",
       "      <td>NaN</td>\n",
       "      <td>NaN</td>\n",
       "      <td>None</td>\n",
       "      <td>man</td>\n",
       "      <td>5</td>\n",
       "      <td>5</td>\n",
       "      <td>diesel</td>\n",
       "      <td>2015-11-14 18:10:06.853411+00</td>\n",
       "      <td>2016-01-27 20:40:15.46361+00</td>\n",
       "      <td>8882.31</td>\n",
       "    </tr>\n",
       "    <tr>\n",
       "      <th>2</th>\n",
       "      <td>bmw</td>\n",
       "      <td>NaN</td>\n",
       "      <td>97676.0</td>\n",
       "      <td>2010.0</td>\n",
       "      <td>1995.0</td>\n",
       "      <td>85.0</td>\n",
       "      <td>NaN</td>\n",
       "      <td>NaN</td>\n",
       "      <td>None</td>\n",
       "      <td>man</td>\n",
       "      <td>5</td>\n",
       "      <td>5</td>\n",
       "      <td>diesel</td>\n",
       "      <td>2015-11-14 18:10:06.861792+00</td>\n",
       "      <td>2016-01-27 20:40:15.46361+00</td>\n",
       "      <td>12065.06</td>\n",
       "    </tr>\n",
       "    <tr>\n",
       "      <th>3</th>\n",
       "      <td>skoda</td>\n",
       "      <td>fabia</td>\n",
       "      <td>111970.0</td>\n",
       "      <td>2004.0</td>\n",
       "      <td>1200.0</td>\n",
       "      <td>47.0</td>\n",
       "      <td>NaN</td>\n",
       "      <td>NaN</td>\n",
       "      <td>None</td>\n",
       "      <td>man</td>\n",
       "      <td>5</td>\n",
       "      <td>5</td>\n",
       "      <td>gasoline</td>\n",
       "      <td>2015-11-14 18:10:06.872313+00</td>\n",
       "      <td>2016-01-27 20:40:15.46361+00</td>\n",
       "      <td>2960.77</td>\n",
       "    </tr>\n",
       "    <tr>\n",
       "      <th>4</th>\n",
       "      <td>skoda</td>\n",
       "      <td>fabia</td>\n",
       "      <td>128886.0</td>\n",
       "      <td>2004.0</td>\n",
       "      <td>1200.0</td>\n",
       "      <td>47.0</td>\n",
       "      <td>NaN</td>\n",
       "      <td>NaN</td>\n",
       "      <td>None</td>\n",
       "      <td>man</td>\n",
       "      <td>5</td>\n",
       "      <td>5</td>\n",
       "      <td>gasoline</td>\n",
       "      <td>2015-11-14 18:10:06.880335+00</td>\n",
       "      <td>2016-01-27 20:40:15.46361+00</td>\n",
       "      <td>2738.71</td>\n",
       "    </tr>\n",
       "  </tbody>\n",
       "</table>\n",
       "</div>"
      ],
      "text/plain": [
       "   maker    model   mileage  manufacture_year  engine_displacement  \\\n",
       "0   ford   galaxy  151000.0            2011.0               2000.0   \n",
       "1  skoda  octavia  143476.0            2012.0               2000.0   \n",
       "2    bmw      NaN   97676.0            2010.0               1995.0   \n",
       "3  skoda    fabia  111970.0            2004.0               1200.0   \n",
       "4  skoda    fabia  128886.0            2004.0               1200.0   \n",
       "\n",
       "   engine_power body_type  color_slug stk_year transmission door_count  \\\n",
       "0         103.0       NaN         NaN     None          man          5   \n",
       "1          81.0       NaN         NaN     None          man          5   \n",
       "2          85.0       NaN         NaN     None          man          5   \n",
       "3          47.0       NaN         NaN     None          man          5   \n",
       "4          47.0       NaN         NaN     None          man          5   \n",
       "\n",
       "  seat_count fuel_type                   date_created  \\\n",
       "0          7    diesel  2015-11-14 18:10:06.838319+00   \n",
       "1          5    diesel  2015-11-14 18:10:06.853411+00   \n",
       "2          5    diesel  2015-11-14 18:10:06.861792+00   \n",
       "3          5  gasoline  2015-11-14 18:10:06.872313+00   \n",
       "4          5  gasoline  2015-11-14 18:10:06.880335+00   \n",
       "\n",
       "                 date_last_seen  price_eur  \n",
       "0  2016-01-27 20:40:15.46361+00   10584.75  \n",
       "1  2016-01-27 20:40:15.46361+00    8882.31  \n",
       "2  2016-01-27 20:40:15.46361+00   12065.06  \n",
       "3  2016-01-27 20:40:15.46361+00    2960.77  \n",
       "4  2016-01-27 20:40:15.46361+00    2738.71  "
      ]
     },
     "execution_count": 4,
     "metadata": {},
     "output_type": "execute_result"
    }
   ],
   "source": [
    "data1.head()"
   ]
  },
  {
   "cell_type": "code",
   "execution_count": 7,
   "metadata": {},
   "outputs": [],
   "source": [
    "data1_subset = data1[['maker', 'model', 'mileage', 'manufacture_year', 'price_eur', 'fuel_type']]"
   ]
  },
  {
   "cell_type": "code",
   "execution_count": 8,
   "metadata": {},
   "outputs": [],
   "source": [
    "# Preliminary data cleaning \n",
    "\n",
    "# 1. Drop all the rows where the manufacture year of the car is lesser than 2010\n",
    "#    ==> About 110,777 rows were dropped, which was about 10% of the dataset. \n",
    "#    (Number of rows Reduced to 937798 from 1048575)\n",
    "\n",
    "#    A number of rows had their manufactue year as 0.0 and some other number that weren't feasible. \n",
    "#    Considering only those cars that were manufactured in the past 18 years would provide a solid\n",
    "#    data for our predictive models.\n",
    "\n",
    "\n",
    "data1_subset = data1_subset.drop(data1_subset[data1_subset.manufacture_year < 2010].index)\n",
    "\n",
    "\n",
    "# 2. Clean up price range: Drop rows where the price is lesser: # of rows reduced to 894790\n",
    "\n",
    "data1_subset = data1_subset.drop(data1_subset[data1_subset.price_eur < 5000].index)\n",
    "data1_subset = data1_subset.drop(data1_subset[data1_subset.price_eur > 100000].index)\n",
    "\n",
    "# 3. Drop rows where the maker is null: Reduced to 4473950\n",
    "data1_subset['maker'].dropna(inplace=True)\n",
    "data1_subset['model'].dropna(inplace=True)\n",
    "\n",
    "data1_subset['maker'] = data1_subset.maker.astype('category')\n",
    "data1_subset['model'] = data1_subset.model.astype('category')"
   ]
  },
  {
   "cell_type": "code",
   "execution_count": 9,
   "metadata": {},
   "outputs": [
    {
     "name": "stdout",
     "output_type": "stream",
     "text": [
      "<class 'pandas.core.frame.DataFrame'>\n",
      "Int64Index: 508946 entries, 0 to 1048573\n",
      "Data columns (total 6 columns):\n",
      "maker               368656 non-null category\n",
      "model               265056 non-null category\n",
      "mileage             499369 non-null float64\n",
      "manufacture_year    450673 non-null float64\n",
      "price_eur           508946 non-null float64\n",
      "fuel_type           508946 non-null object\n",
      "dtypes: category(2), float64(3), object(1)\n",
      "memory usage: 20.9+ MB\n"
     ]
    }
   ],
   "source": [
    "data1_subset.info()"
   ]
  },
  {
   "cell_type": "code",
   "execution_count": 10,
   "metadata": {},
   "outputs": [
    {
     "name": "stdout",
     "output_type": "stream",
     "text": [
      "38\n",
      "['ford', 'skoda', 'bmw', 'kia', nan, 'suzuki', 'rover', 'citroen', 'audi', 'toyota', 'seat', 'hyundai', 'nissan', 'chevrolet', 'opel', 'mercedes-benz', 'volvo', 'fiat', 'honda', 'dodge', 'subaru', 'mitsubishi', 'mazda', 'chrysler', 'porsche', 'jaguar', 'jeep', 'mini', 'lancia', 'lexus', 'smart', 'tesla', 'maserati', 'hummer', 'isuzu', 'lamborghini', 'bentley', 'lotus']\n"
     ]
    }
   ],
   "source": [
    "# Used 37 unique makers\n",
    "maker_list = data1_subset['maker'].unique().tolist()\n",
    "print (len(maker_list))\n",
    "print(maker_list)"
   ]
  },
  {
   "cell_type": "code",
   "execution_count": 11,
   "metadata": {},
   "outputs": [
    {
     "name": "stdout",
     "output_type": "stream",
     "text": [
      "438\n"
     ]
    }
   ],
   "source": [
    "# With 437 different cars\n",
    "model_list = data1_subset['model'].unique().tolist()\n",
    "print (len(model_list))"
   ]
  },
  {
   "cell_type": "code",
   "execution_count": 12,
   "metadata": {},
   "outputs": [],
   "source": [
    "max_year = data1_subset['manufacture_year'].max()\n",
    "min_year = data1_subset['manufacture_year'].min()"
   ]
  },
  {
   "cell_type": "code",
   "execution_count": 55,
   "metadata": {},
   "outputs": [],
   "source": [
    "# The current data set has the highest number of cars manufactured in 2015. this is in sync with the real world where\n",
    "# the year 2015 had the highest number of cars manufactured.\n",
    "# [Reference] : https://www.washingtonpost.com/business/economy/us-car-sales-hit-record-high-in-2015/2016/01/05/363aaf30-af14-11e5-b820-eea4d64be2a1_story.html?noredirect=on&utm_term=.958cb298154d\n",
    "\n",
    "#Uncomment in the end coz it takes a while to run\n",
    "#mode(data1_subset['manufacture_year'])\n",
    "\n"
   ]
  },
  {
   "cell_type": "code",
   "execution_count": 13,
   "metadata": {},
   "outputs": [
    {
     "data": {
      "image/png": "[encoded data removed]",
      "text/plain": [
       "<Figure size 432x288 with 1 Axes>"
      ]
     },
     "metadata": {},
     "output_type": "display_data"
    }
   ],
   "source": [
    "mpl.rcParams['agg.path.chunksize'] = 10000\n",
    "ax = data1_subset.plot(x=\"manufacture_year\",y=\"price_eur\")"
   ]
  },
  {
   "cell_type": "code",
   "execution_count": 14,
   "metadata": {},
   "outputs": [
    {
     "name": "stderr",
     "output_type": "stream",
     "text": [
      "/anaconda3/lib/python3.6/site-packages/ipykernel_launcher.py:7: SettingWithCopyWarning: \n",
      "A value is trying to be set on a copy of a slice from a DataFrame\n",
      "\n",
      "See the caveats in the documentation: http://pandas.pydata.org/pandas-docs/stable/indexing.html#indexing-view-versus-copy\n",
      "  import sys\n"
     ]
    },
    {
     "data": {
      "text/plain": [
       "(107377, 6)"
      ]
     },
     "execution_count": 14,
     "metadata": {},
     "output_type": "execute_result"
    }
   ],
   "source": [
    "makes_list = ['skoda', 'kia', 'suzuki', 'rover', 'citroen',  'seat', 'opel' ,\n",
    "                         'volvo', 'fiat', 'dodge', 'subaru', 'mitsubishi',' chrysler', 'jeep',\n",
    "                         'mini', 'lancia' , 'smart', 'hummer', 'isuzu',  'bentley', 'lotus']\n",
    "#loc_ = ~data1_subset.model.isin(makes_list)\n",
    "data1_subset_cleaned = data1_subset.loc[~(data1_subset.maker.isin(makes_list)).values]     \n",
    "data1_subset_cleaned.drop_duplicates()\n",
    "data1_subset_cleaned.dropna(inplace = True)\n",
    "data1_subset_cleaned.shape\n",
    "\n",
    "\n",
    "#Explain  ---"
   ]
  },
  {
   "cell_type": "code",
   "execution_count": 186,
   "metadata": {},
   "outputs": [],
   "source": [
    "# data1_subset_cleaned.hist(\"manufacture_year\", \"price_eur\", density=True, histtype='bar', stacked=True)\n",
    "# data1_subset_cleaned.set_title('stacked bar')"
   ]
  },
  {
   "cell_type": "code",
   "execution_count": 15,
   "metadata": {},
   "outputs": [],
   "source": [
    "price_mileage_df = data1_subset_cleaned[[\"price_eur\", \"mileage\"]]"
   ]
  },
  {
   "cell_type": "code",
   "execution_count": 16,
   "metadata": {},
   "outputs": [
    {
     "data": {
      "text/plain": [
       "<matplotlib.axes._subplots.AxesSubplot at 0x103994908>"
      ]
     },
     "execution_count": 16,
     "metadata": {},
     "output_type": "execute_result"
    },
    {
     "data": {
      "image/png": "[encoded data removed]",
      "text/plain": [
       "<Figure size 432x288 with 1 Axes>"
      ]
     },
     "metadata": {},
     "output_type": "display_data"
    }
   ],
   "source": [
    "data1_subset_cleaned['maker'].value_counts().plot(kind = 'bar')\n"
   ]
  },
  {
   "cell_type": "code",
   "execution_count": 17,
   "metadata": {},
   "outputs": [
    {
     "data": {
      "text/plain": [
       "Text(0,0.5,'Price')"
      ]
     },
     "execution_count": 17,
     "metadata": {},
     "output_type": "execute_result"
    },
    {
     "data": {
      "image/png": "[encoded data removed]",
      "text/plain": [
       "<Figure size 432x288 with 1 Axes>"
      ]
     },
     "metadata": {},
     "output_type": "display_data"
    }
   ],
   "source": [
    "plt.scatter(data1_subset_cleaned['price_eur'],  data1_subset_cleaned['mileage'])\n",
    "plt.title(\"Mileage vs price\")\n",
    "plt.xlabel(\"Mileage\")\n",
    "plt.ylabel(\"Price\")"
   ]
  },
  {
   "cell_type": "code",
   "execution_count": 34,
   "metadata": {},
   "outputs": [],
   "source": [
    "\n",
    "#tried to get the average price given  fuel type \n",
    "\n",
    "#data1_subset_cleaned['fuel_count'] = data1_subset_cleaned['price_eur'].groupby\n",
    "#(data1_subset_cleaned['fuel_type']).transform('mean')\n",
    "#plt.plot(data1_subset_cleaned['fuel_type'], data1_subset_cleaned['fuel_count'])\n",
    "\n",
    "\n"
   ]
  },
  {
   "cell_type": "code",
   "execution_count": 19,
   "metadata": {},
   "outputs": [
    {
     "data": {
      "image/png": "[encoded data removed]",
      "text/plain": [
       "<Figure size 432x288 with 1 Axes>"
      ]
     },
     "metadata": {},
     "output_type": "display_data"
    }
   ],
   "source": [
    "#Shows an even distribution of diesel and gasoline\n",
    "#plt.scatter(data1_subset_cleaned['fuel_type'],  data1_subset_cleaned['price_eur'])\n",
    "ax1 = sns.boxplot(x='fuel_type', y = 'price_eur', data = data1_subset_cleaned, palette = \"Set1\")\n"
   ]
  },
  {
   "cell_type": "code",
   "execution_count": 25,
   "metadata": {},
   "outputs": [
    {
     "name": "stdout",
     "output_type": "stream",
     "text": [
      "<class 'pandas.core.frame.DataFrame'>\n",
      "Int64Index: 107377 entries, 0 to 1048516\n",
      "Data columns (total 9 columns):\n",
      "maker               107377 non-null category\n",
      "model               107377 non-null category\n",
      "mileage             107377 non-null float64\n",
      "manufacture_year    107377 non-null float64\n",
      "price_eur           107377 non-null float64\n",
      "fuel_type           107377 non-null object\n",
      "fuel_count          107377 non-null object\n",
      "Current Year        107377 non-null int64\n",
      "AgeOfCar            107377 non-null float64\n",
      "dtypes: category(2), float64(4), int64(1), object(2)\n",
      "memory usage: 11.9+ MB\n",
      "<class 'pandas.core.frame.DataFrame'>\n",
      "Int64Index: 107377 entries, 0 to 1048516\n",
      "Data columns (total 9 columns):\n",
      "maker               107377 non-null category\n",
      "model               107377 non-null category\n",
      "mileage             107377 non-null float64\n",
      "manufacture_year    107377 non-null float64\n",
      "price_eur           107377 non-null float64\n",
      "fuel_type           107377 non-null object\n",
      "fuel_count          107377 non-null object\n",
      "Current Year        107377 non-null int64\n",
      "AgeOfCar            107377 non-null float64\n",
      "dtypes: category(2), float64(4), int64(1), object(2)\n",
      "memory usage: 11.9+ MB\n"
     ]
    },
    {
     "name": "stderr",
     "output_type": "stream",
     "text": [
      "/anaconda3/lib/python3.6/site-packages/ipykernel_launcher.py:2: SettingWithCopyWarning: \n",
      "A value is trying to be set on a copy of a slice from a DataFrame.\n",
      "Try using .loc[row_indexer,col_indexer] = value instead\n",
      "\n",
      "See the caveats in the documentation: http://pandas.pydata.org/pandas-docs/stable/indexing.html#indexing-view-versus-copy\n",
      "  \n",
      "/anaconda3/lib/python3.6/site-packages/ipykernel_launcher.py:3: SettingWithCopyWarning: \n",
      "A value is trying to be set on a copy of a slice from a DataFrame.\n",
      "Try using .loc[row_indexer,col_indexer] = value instead\n",
      "\n",
      "See the caveats in the documentation: http://pandas.pydata.org/pandas-docs/stable/indexing.html#indexing-view-versus-copy\n",
      "  This is separate from the ipykernel package so we can avoid doing imports until\n"
     ]
    },
    {
     "data": {
      "text/html": [
       "<div>\n",
       "<style scoped>\n",
       "    .dataframe tbody tr th:only-of-type {\n",
       "        vertical-align: middle;\n",
       "    }\n",
       "\n",
       "    .dataframe tbody tr th {\n",
       "        vertical-align: top;\n",
       "    }\n",
       "\n",
       "    .dataframe thead th {\n",
       "        text-align: right;\n",
       "    }\n",
       "</style>\n",
       "<table border=\"1\" class=\"dataframe\">\n",
       "  <thead>\n",
       "    <tr style=\"text-align: right;\">\n",
       "      <th></th>\n",
       "      <th>maker</th>\n",
       "      <th>model</th>\n",
       "      <th>mileage</th>\n",
       "      <th>manufacture_year</th>\n",
       "      <th>price_eur</th>\n",
       "      <th>fuel_type</th>\n",
       "      <th>fuel_count</th>\n",
       "      <th>Current Year</th>\n",
       "      <th>AgeOfCar</th>\n",
       "    </tr>\n",
       "  </thead>\n",
       "  <tbody>\n",
       "    <tr>\n",
       "      <th>0</th>\n",
       "      <td>ford</td>\n",
       "      <td>galaxy</td>\n",
       "      <td>151000.0</td>\n",
       "      <td>2011.0</td>\n",
       "      <td>10584.75</td>\n",
       "      <td>diesel</td>\n",
       "      <td>&lt;bound method NDFrame.groupby of 0          10...</td>\n",
       "      <td>2018</td>\n",
       "      <td>7.0</td>\n",
       "    </tr>\n",
       "    <tr>\n",
       "      <th>36</th>\n",
       "      <td>ford</td>\n",
       "      <td>focus</td>\n",
       "      <td>159427.0</td>\n",
       "      <td>2012.0</td>\n",
       "      <td>8771.28</td>\n",
       "      <td>diesel</td>\n",
       "      <td>&lt;bound method NDFrame.groupby of 0          10...</td>\n",
       "      <td>2018</td>\n",
       "      <td>6.0</td>\n",
       "    </tr>\n",
       "    <tr>\n",
       "      <th>37</th>\n",
       "      <td>ford</td>\n",
       "      <td>galaxy</td>\n",
       "      <td>160235.0</td>\n",
       "      <td>2012.0</td>\n",
       "      <td>11102.89</td>\n",
       "      <td>diesel</td>\n",
       "      <td>&lt;bound method NDFrame.groupby of 0          10...</td>\n",
       "      <td>2018</td>\n",
       "      <td>6.0</td>\n",
       "    </tr>\n",
       "    <tr>\n",
       "      <th>46</th>\n",
       "      <td>audi</td>\n",
       "      <td>a8</td>\n",
       "      <td>4000.0</td>\n",
       "      <td>2014.0</td>\n",
       "      <td>98692.30</td>\n",
       "      <td>diesel</td>\n",
       "      <td>&lt;bound method NDFrame.groupby of 0          10...</td>\n",
       "      <td>2018</td>\n",
       "      <td>4.0</td>\n",
       "    </tr>\n",
       "    <tr>\n",
       "      <th>53</th>\n",
       "      <td>ford</td>\n",
       "      <td>mondeo</td>\n",
       "      <td>164867.0</td>\n",
       "      <td>2012.0</td>\n",
       "      <td>11102.89</td>\n",
       "      <td>diesel</td>\n",
       "      <td>&lt;bound method NDFrame.groupby of 0          10...</td>\n",
       "      <td>2018</td>\n",
       "      <td>6.0</td>\n",
       "    </tr>\n",
       "  </tbody>\n",
       "</table>\n",
       "</div>"
      ],
      "text/plain": [
       "   maker   model   mileage  manufacture_year  price_eur fuel_type  \\\n",
       "0   ford  galaxy  151000.0            2011.0   10584.75    diesel   \n",
       "36  ford   focus  159427.0            2012.0    8771.28    diesel   \n",
       "37  ford  galaxy  160235.0            2012.0   11102.89    diesel   \n",
       "46  audi      a8    4000.0            2014.0   98692.30    diesel   \n",
       "53  ford  mondeo  164867.0            2012.0   11102.89    diesel   \n",
       "\n",
       "                                           fuel_count  Current Year  AgeOfCar  \n",
       "0   <bound method NDFrame.groupby of 0          10...          2018       7.0  \n",
       "36  <bound method NDFrame.groupby of 0          10...          2018       6.0  \n",
       "37  <bound method NDFrame.groupby of 0          10...          2018       6.0  \n",
       "46  <bound method NDFrame.groupby of 0          10...          2018       4.0  \n",
       "53  <bound method NDFrame.groupby of 0          10...          2018       6.0  "
      ]
     },
     "execution_count": 25,
     "metadata": {},
     "output_type": "execute_result"
    }
   ],
   "source": [
    "data1_subset_cleaned.info()\n",
    "data1_subset_cleaned['Current Year'] = datetime.datetime.now().year\n",
    "data1_subset_cleaned['AgeOfCar']=data1_subset_cleaned['Current Year']-data1_subset_cleaned['manufacture_year']\n",
    "data1_subset_cleaned.info()\n",
    "data1_subset_cleaned.head()"
   ]
  },
  {
   "cell_type": "code",
   "execution_count": 40,
   "metadata": {},
   "outputs": [
    {
     "name": "stderr",
     "output_type": "stream",
     "text": [
      "/anaconda3/lib/python3.6/site-packages/ipykernel_launcher.py:3: SettingWithCopyWarning: \n",
      "A value is trying to be set on a copy of a slice from a DataFrame.\n",
      "Try using .loc[row_indexer,col_indexer] = value instead\n",
      "\n",
      "See the caveats in the documentation: http://pandas.pydata.org/pandas-docs/stable/indexing.html#indexing-view-versus-copy\n",
      "  This is separate from the ipykernel package so we can avoid doing imports until\n",
      "/anaconda3/lib/python3.6/site-packages/ipykernel_launcher.py:4: SettingWithCopyWarning: \n",
      "A value is trying to be set on a copy of a slice from a DataFrame.\n",
      "Try using .loc[row_indexer,col_indexer] = value instead\n",
      "\n",
      "See the caveats in the documentation: http://pandas.pydata.org/pandas-docs/stable/indexing.html#indexing-view-versus-copy\n",
      "  after removing the cwd from sys.path.\n"
     ]
    }
   ],
   "source": [
    "lm  = LinearRegression()\n",
    "X = data1_subset_cleaned[['maker', 'model', 'mileage', 'manufacture_year']]\n",
    "Y = data1_subset_cleaned['price_eur']\n"
   ]
  },
  {
   "cell_type": "code",
   "execution_count": 35,
   "metadata": {},
   "outputs": [
    {
     "data": {
      "text/html": [
       "<table class=\"simpletable\">\n",
       "<caption>OLS Regression Results</caption>\n",
       "<tr>\n",
       "  <th>Dep. Variable:</th>        <td>price_eur</td>    <th>  R-squared:         </th>  <td>   0.119</td>  \n",
       "</tr>\n",
       "<tr>\n",
       "  <th>Model:</th>                   <td>OLS</td>       <th>  Adj. R-squared:    </th>  <td>   0.119</td>  \n",
       "</tr>\n",
       "<tr>\n",
       "  <th>Method:</th>             <td>Least Squares</td>  <th>  F-statistic:       </th>  <td>1.014e+04</td> \n",
       "</tr>\n",
       "<tr>\n",
       "  <th>Date:</th>             <td>Tue, 25 Sep 2018</td> <th>  Prob (F-statistic):</th>   <td>  0.00</td>   \n",
       "</tr>\n",
       "<tr>\n",
       "  <th>Time:</th>                 <td>20:11:12</td>     <th>  Log-Likelihood:    </th> <td>-8.6788e+05</td>\n",
       "</tr>\n",
       "<tr>\n",
       "  <th>No. Observations:</th>      <td> 75163</td>      <th>  AIC:               </th>  <td>1.736e+06</td> \n",
       "</tr>\n",
       "<tr>\n",
       "  <th>Df Residuals:</th>          <td> 75162</td>      <th>  BIC:               </th>  <td>1.736e+06</td> \n",
       "</tr>\n",
       "<tr>\n",
       "  <th>Df Model:</th>              <td>     1</td>      <th>                     </th>      <td> </td>     \n",
       "</tr>\n",
       "<tr>\n",
       "  <th>Covariance Type:</th>      <td>nonrobust</td>    <th>                     </th>      <td> </td>     \n",
       "</tr>\n",
       "</table>\n",
       "<table class=\"simpletable\">\n",
       "<tr>\n",
       "     <td></td>        <th>coef</th>     <th>std err</th>      <th>t</th>      <th>P>|t|</th>  <th>[0.025</th>    <th>0.975]</th>  \n",
       "</tr>\n",
       "<tr>\n",
       "  <th>mileage</th> <td>    0.0960</td> <td>    0.001</td> <td>  100.717</td> <td> 0.000</td> <td>    0.094</td> <td>    0.098</td>\n",
       "</tr>\n",
       "</table>\n",
       "<table class=\"simpletable\">\n",
       "<tr>\n",
       "  <th>Omnibus:</th>       <td>42370.560</td> <th>  Durbin-Watson:     </th>   <td>   0.994</td>  \n",
       "</tr>\n",
       "<tr>\n",
       "  <th>Prob(Omnibus):</th>  <td> 0.000</td>   <th>  Jarque-Bera (JB):  </th> <td>13337478.045</td>\n",
       "</tr>\n",
       "<tr>\n",
       "  <th>Skew:</th>           <td>-1.509</td>   <th>  Prob(JB):          </th>   <td>    0.00</td>  \n",
       "</tr>\n",
       "<tr>\n",
       "  <th>Kurtosis:</th>       <td>68.189</td>   <th>  Cond. No.          </th>   <td>    1.00</td>  \n",
       "</tr>\n",
       "</table><br/><br/>Warnings:<br/>[1] Standard Errors assume that the covariance matrix of the errors is correctly specified."
      ],
      "text/plain": [
       "<class 'statsmodels.iolib.summary.Summary'>\n",
       "\"\"\"\n",
       "                            OLS Regression Results                            \n",
       "==============================================================================\n",
       "Dep. Variable:              price_eur   R-squared:                       0.119\n",
       "Model:                            OLS   Adj. R-squared:                  0.119\n",
       "Method:                 Least Squares   F-statistic:                 1.014e+04\n",
       "Date:                Tue, 25 Sep 2018   Prob (F-statistic):               0.00\n",
       "Time:                        20:11:12   Log-Likelihood:            -8.6788e+05\n",
       "No. Observations:               75163   AIC:                         1.736e+06\n",
       "Df Residuals:                   75162   BIC:                         1.736e+06\n",
       "Df Model:                           1                                         \n",
       "Covariance Type:            nonrobust                                         \n",
       "==============================================================================\n",
       "                 coef    std err          t      P>|t|      [0.025      0.975]\n",
       "------------------------------------------------------------------------------\n",
       "mileage        0.0960      0.001    100.717      0.000       0.094       0.098\n",
       "==============================================================================\n",
       "Omnibus:                    42370.560   Durbin-Watson:                   0.994\n",
       "Prob(Omnibus):                  0.000   Jarque-Bera (JB):         13337478.045\n",
       "Skew:                          -1.509   Prob(JB):                         0.00\n",
       "Kurtosis:                      68.189   Cond. No.                         1.00\n",
       "==============================================================================\n",
       "\n",
       "Warnings:\n",
       "[1] Standard Errors assume that the covariance matrix of the errors is correctly specified.\n",
       "\"\"\""
      ]
     },
     "execution_count": 35,
     "metadata": {},
     "output_type": "execute_result"
    }
   ],
   "source": [
    "#Predicts the car price using only the mileage with an accuracy of 99.01%\n",
    "lm  = LinearRegression()\n",
    "X = data1_subset_cleaned[['mileage']]\n",
    "Y = data1_subset_cleaned['price_eur']\n",
    "X_train, X_test, Y_train, Y_test  = train_test_split(X, Y , test_size = 0.3)\n",
    "lm.fit(X_train, Y_train)\n",
    "Y_pred = lm.predict(X_test)\n",
    "\n",
    "model = sm.OLS(Y_train, X_train)\n",
    "result = model.fit()\n",
    "result.summary()"
   ]
  },
  {
   "cell_type": "code",
   "execution_count": null,
   "metadata": {},
   "outputs": [],
   "source": [
    "data1_subset_cleaned.info()\n",
    "data1_subset_cleaned['Current Year'] = datetime.datetime.now().year\n",
    "data1_subset_cleaned['AgeOfCar']=data1_subset_cleaned['Current Year']-data1_subset_cleaned['manufacture_year']\n",
    "data1_subset_cleaned.info()\n",
    "data1_subset_cleaned.head()"
   ]
  },
  {
   "cell_type": "code",
   "execution_count": 26,
   "metadata": {},
   "outputs": [
    {
     "data": {
      "text/html": [
       "<table class=\"simpletable\">\n",
       "<caption>OLS Regression Results</caption>\n",
       "<tr>\n",
       "  <th>Dep. Variable:</th>        <td>price_eur</td>    <th>  R-squared:         </th>  <td>   0.547</td>  \n",
       "</tr>\n",
       "<tr>\n",
       "  <th>Model:</th>                   <td>OLS</td>       <th>  Adj. R-squared:    </th>  <td>   0.547</td>  \n",
       "</tr>\n",
       "<tr>\n",
       "  <th>Method:</th>             <td>Least Squares</td>  <th>  F-statistic:       </th>  <td>9.066e+04</td> \n",
       "</tr>\n",
       "<tr>\n",
       "  <th>Date:</th>             <td>Tue, 25 Sep 2018</td> <th>  Prob (F-statistic):</th>   <td>  0.00</td>   \n",
       "</tr>\n",
       "<tr>\n",
       "  <th>Time:</th>                 <td>17:29:34</td>     <th>  Log-Likelihood:    </th> <td>-8.4315e+05</td>\n",
       "</tr>\n",
       "<tr>\n",
       "  <th>No. Observations:</th>      <td> 75163</td>      <th>  AIC:               </th>  <td>1.686e+06</td> \n",
       "</tr>\n",
       "<tr>\n",
       "  <th>Df Residuals:</th>          <td> 75162</td>      <th>  BIC:               </th>  <td>1.686e+06</td> \n",
       "</tr>\n",
       "<tr>\n",
       "  <th>Df Model:</th>              <td>     1</td>      <th>                     </th>      <td> </td>     \n",
       "</tr>\n",
       "<tr>\n",
       "  <th>Covariance Type:</th>      <td>nonrobust</td>    <th>                     </th>      <td> </td>     \n",
       "</tr>\n",
       "</table>\n",
       "<table class=\"simpletable\">\n",
       "<tr>\n",
       "      <td></td>        <th>coef</th>     <th>std err</th>      <th>t</th>      <th>P>|t|</th>  <th>[0.025</th>    <th>0.975]</th>  \n",
       "</tr>\n",
       "<tr>\n",
       "  <th>AgeOfCar</th> <td> 3832.6843</td> <td>   12.729</td> <td>  301.097</td> <td> 0.000</td> <td> 3807.735</td> <td> 3857.633</td>\n",
       "</tr>\n",
       "</table>\n",
       "<table class=\"simpletable\">\n",
       "<tr>\n",
       "  <th>Omnibus:</th>       <td>17284.666</td> <th>  Durbin-Watson:     </th> <td>   1.904</td> \n",
       "</tr>\n",
       "<tr>\n",
       "  <th>Prob(Omnibus):</th>  <td> 0.000</td>   <th>  Jarque-Bera (JB):  </th> <td>41357.172</td>\n",
       "</tr>\n",
       "<tr>\n",
       "  <th>Skew:</th>           <td> 1.285</td>   <th>  Prob(JB):          </th> <td>    0.00</td> \n",
       "</tr>\n",
       "<tr>\n",
       "  <th>Kurtosis:</th>       <td> 5.569</td>   <th>  Cond. No.          </th> <td>    1.00</td> \n",
       "</tr>\n",
       "</table><br/><br/>Warnings:<br/>[1] Standard Errors assume that the covariance matrix of the errors is correctly specified."
      ],
      "text/plain": [
       "<class 'statsmodels.iolib.summary.Summary'>\n",
       "\"\"\"\n",
       "                            OLS Regression Results                            \n",
       "==============================================================================\n",
       "Dep. Variable:              price_eur   R-squared:                       0.547\n",
       "Model:                            OLS   Adj. R-squared:                  0.547\n",
       "Method:                 Least Squares   F-statistic:                 9.066e+04\n",
       "Date:                Tue, 25 Sep 2018   Prob (F-statistic):               0.00\n",
       "Time:                        17:29:34   Log-Likelihood:            -8.4315e+05\n",
       "No. Observations:               75163   AIC:                         1.686e+06\n",
       "Df Residuals:                   75162   BIC:                         1.686e+06\n",
       "Df Model:                           1                                         \n",
       "Covariance Type:            nonrobust                                         \n",
       "==============================================================================\n",
       "                 coef    std err          t      P>|t|      [0.025      0.975]\n",
       "------------------------------------------------------------------------------\n",
       "AgeOfCar    3832.6843     12.729    301.097      0.000    3807.735    3857.633\n",
       "==============================================================================\n",
       "Omnibus:                    17284.666   Durbin-Watson:                   1.904\n",
       "Prob(Omnibus):                  0.000   Jarque-Bera (JB):            41357.172\n",
       "Skew:                           1.285   Prob(JB):                         0.00\n",
       "Kurtosis:                       5.569   Cond. No.                         1.00\n",
       "==============================================================================\n",
       "\n",
       "Warnings:\n",
       "[1] Standard Errors assume that the covariance matrix of the errors is correctly specified.\n",
       "\"\"\""
      ]
     },
     "execution_count": 26,
     "metadata": {},
     "output_type": "execute_result"
    }
   ],
   "source": [
    "#Predicts the car price using only the year of manufacture with an accuracy of 99.20%\n",
    "lm  = LinearRegression()\n",
    "X = data1_subset_cleaned[['AgeOfCar']]\n",
    "Y = data1_subset_cleaned['price_eur']\n",
    "X_train, X_test, Y_train, Y_test  = train_test_split(X, Y , test_size = 0.3)\n",
    "lm.fit(X_train, Y_train)\n",
    "Y_pred = lm.predict(X_test)\n",
    "\n",
    "model = sm.OLS(Y_train, X_train)\n",
    "result = model.fit()\n",
    "result.summary()"
   ]
  },
  {
   "cell_type": "code",
   "execution_count": 75,
   "metadata": {},
   "outputs": [
    {
     "data": {
      "text/html": [
       "<table class=\"simpletable\">\n",
       "<caption>OLS Regression Results</caption>\n",
       "<tr>\n",
       "  <th>Dep. Variable:</th>        <td>price_eur</td>    <th>  R-squared:         </th>  <td>   0.952</td>  \n",
       "</tr>\n",
       "<tr>\n",
       "  <th>Model:</th>                   <td>OLS</td>       <th>  Adj. R-squared:    </th>  <td>   0.952</td>  \n",
       "</tr>\n",
       "<tr>\n",
       "  <th>Method:</th>             <td>Least Squares</td>  <th>  F-statistic:       </th>  <td>5.850e+05</td> \n",
       "</tr>\n",
       "<tr>\n",
       "  <th>Date:</th>             <td>Sun, 23 Sep 2018</td> <th>  Prob (F-statistic):</th>   <td>  0.00</td>   \n",
       "</tr>\n",
       "<tr>\n",
       "  <th>Time:</th>                 <td>20:01:43</td>     <th>  Log-Likelihood:    </th> <td>-2.8929e+05</td>\n",
       "</tr>\n",
       "<tr>\n",
       "  <th>No. Observations:</th>      <td> 29284</td>      <th>  AIC:               </th>  <td>5.786e+05</td> \n",
       "</tr>\n",
       "<tr>\n",
       "  <th>Df Residuals:</th>          <td> 29283</td>      <th>  BIC:               </th>  <td>5.786e+05</td> \n",
       "</tr>\n",
       "<tr>\n",
       "  <th>Df Model:</th>              <td>     1</td>      <th>                     </th>      <td> </td>     \n",
       "</tr>\n",
       "<tr>\n",
       "  <th>Covariance Type:</th>      <td>nonrobust</td>    <th>                     </th>      <td> </td>     \n",
       "</tr>\n",
       "</table>\n",
       "<table class=\"simpletable\">\n",
       "<tr>\n",
       "   <td></td>     <th>coef</th>     <th>std err</th>      <th>t</th>      <th>P>|t|</th>  <th>[0.025</th>    <th>0.975]</th>  \n",
       "</tr>\n",
       "<tr>\n",
       "  <th>x1</th> <td>    0.9983</td> <td>    0.001</td> <td>  764.856</td> <td> 0.000</td> <td>    0.996</td> <td>    1.001</td>\n",
       "</tr>\n",
       "</table>\n",
       "<table class=\"simpletable\">\n",
       "<tr>\n",
       "  <th>Omnibus:</th>       <td>10794.719</td> <th>  Durbin-Watson:     </th>  <td>   1.991</td> \n",
       "</tr>\n",
       "<tr>\n",
       "  <th>Prob(Omnibus):</th>  <td> 0.000</td>   <th>  Jarque-Bera (JB):  </th> <td>205429.784</td>\n",
       "</tr>\n",
       "<tr>\n",
       "  <th>Skew:</th>           <td> 1.292</td>   <th>  Prob(JB):          </th>  <td>    0.00</td> \n",
       "</tr>\n",
       "<tr>\n",
       "  <th>Kurtosis:</th>       <td>15.715</td>   <th>  Cond. No.          </th>  <td>    1.00</td> \n",
       "</tr>\n",
       "</table><br/><br/>Warnings:<br/>[1] Standard Errors assume that the covariance matrix of the errors is correctly specified."
      ],
      "text/plain": [
       "<class 'statsmodels.iolib.summary.Summary'>\n",
       "\"\"\"\n",
       "                            OLS Regression Results                            \n",
       "==============================================================================\n",
       "Dep. Variable:              price_eur   R-squared:                       0.952\n",
       "Model:                            OLS   Adj. R-squared:                  0.952\n",
       "Method:                 Least Squares   F-statistic:                 5.850e+05\n",
       "Date:                Sun, 23 Sep 2018   Prob (F-statistic):               0.00\n",
       "Time:                        20:01:43   Log-Likelihood:            -2.8929e+05\n",
       "No. Observations:               29284   AIC:                         5.786e+05\n",
       "Df Residuals:                   29283   BIC:                         5.786e+05\n",
       "Df Model:                           1                                         \n",
       "Covariance Type:            nonrobust                                         \n",
       "==============================================================================\n",
       "                 coef    std err          t      P>|t|      [0.025      0.975]\n",
       "------------------------------------------------------------------------------\n",
       "x1             0.9983      0.001    764.856      0.000       0.996       1.001\n",
       "==============================================================================\n",
       "Omnibus:                    10794.719   Durbin-Watson:                   1.991\n",
       "Prob(Omnibus):                  0.000   Jarque-Bera (JB):           205429.784\n",
       "Skew:                           1.292   Prob(JB):                         0.00\n",
       "Kurtosis:                      15.715   Cond. No.                         1.00\n",
       "==============================================================================\n",
       "\n",
       "Warnings:\n",
       "[1] Standard Errors assume that the covariance matrix of the errors is correctly specified.\n",
       "\"\"\""
      ]
     },
     "execution_count": 75,
     "metadata": {},
     "output_type": "execute_result"
    }
   ],
   "source": [
    "# Uses all predictor variables, with model and make one-hot-encoded: 99.89% accuracy\n",
    "# Using the model and make does increase the accuracy\n",
    "one_hot_encode_make = pd.get_dummies(data1_subset_cleaned['maker'])\n",
    "one_hot_encode_model = pd.get_dummies(data1_subset_cleaned['model'])\n",
    "data1_subset_cleaned_encoded = pd.concat([data1_subset_cleaned, one_hot_encode_make, one_hot_encode_model], axis=1)\n",
    "\n",
    "X_temp = data1_subset_cleaned_encoded.loc[:, data1_subset_cleaned_encoded.columns != 'price_eur']\n",
    "X_temp = X_temp.loc[:, X_temp.columns != 'fuel_type']\n",
    "X_temp = X_temp.loc[:, X_temp.columns != 'fuel_count']\n",
    "X_temp = X_temp.loc[:, X_temp.columns != 'maker']\n",
    "X_temp = X_temp.loc[:, X_temp.columns != 'model']\n",
    "\n",
    "X = X_temp\n",
    "Y = data1_subset_cleaned_encoded['price_eur']\n",
    "X_train, X_test, Y_train, Y_test  = train_test_split(X, Y , test_size = 0.3)\n",
    "lm.fit(X_train, Y_train)\n",
    "Y_pred = lm.predict(X_test)\n",
    "\n",
    "model = sm.OLS(Y_test, Y_pred)\n",
    "result = model.fit()\n",
    "result.summary()"
   ]
  },
  {
   "cell_type": "code",
   "execution_count": 115,
   "metadata": {},
   "outputs": [],
   "source": [
    "#Extract only those rows where the make of the car is Toyota\n",
    "data1_latent = data1_subset.drop(data1_subset[data1_subset.maker != \"toyota\"].index)\n",
    "data1_latent.drop(['maker'], axis=1, inplace=True)\n",
    "\n",
    "#Select model, price and mileage\n",
    "data1_latent = data1_latent[['model', 'mileage', 'price_eur']]\n",
    "data1_latent['color'] = \"No color\"\n",
    "\n",
    "data1_latent.columns = data1_latent.columns.str.replace('price_eur','price')\n"
   ]
  },
  {
   "cell_type": "code",
   "execution_count": 111,
   "metadata": {},
   "outputs": [],
   "source": [
    "\n",
    "data2 = pd.read_csv(r'/Users/Supreetha/Downloads/usedcars.csv')\n",
    "#Select model, price and mileage\n",
    "data2 = data2[['model', 'mileage', 'price', 'color']]\n",
    "data2.dropna(inplace= True)\n",
    "data2 = data2.drop(data2[data2.price < 5000].index)\n",
    "data2 = data2.drop(data2[data2.price > 100000].index)\n",
    "\n",
    "data2 = data2.drop(data2[data2.mileage < 500].index)\n",
    "data2 = data2.drop(data2[data2.mileage > 200000].index)\n"
   ]
  },
  {
   "cell_type": "code",
   "execution_count": 125,
   "metadata": {},
   "outputs": [],
   "source": [
    "data1_latent = data1_latent.append(data2)\n",
    "data1_latent.dropna(inplace=True)"
   ]
  },
  {
   "cell_type": "code",
   "execution_count": 130,
   "metadata": {},
   "outputs": [
    {
     "data": {
      "text/html": [
       "<table class=\"simpletable\">\n",
       "<caption>OLS Regression Results</caption>\n",
       "<tr>\n",
       "  <th>Dep. Variable:</th>          <td>price</td>      <th>  R-squared:         </th> <td>   0.931</td> \n",
       "</tr>\n",
       "<tr>\n",
       "  <th>Model:</th>                   <td>OLS</td>       <th>  Adj. R-squared:    </th> <td>   0.931</td> \n",
       "</tr>\n",
       "<tr>\n",
       "  <th>Method:</th>             <td>Least Squares</td>  <th>  F-statistic:       </th> <td>3.863e+04</td>\n",
       "</tr>\n",
       "<tr>\n",
       "  <th>Date:</th>             <td>Mon, 24 Sep 2018</td> <th>  Prob (F-statistic):</th>  <td>  0.00</td>  \n",
       "</tr>\n",
       "<tr>\n",
       "  <th>Time:</th>                 <td>01:11:26</td>     <th>  Log-Likelihood:    </th> <td> -28065.</td> \n",
       "</tr>\n",
       "<tr>\n",
       "  <th>No. Observations:</th>      <td>  2872</td>      <th>  AIC:               </th> <td>5.613e+04</td>\n",
       "</tr>\n",
       "<tr>\n",
       "  <th>Df Residuals:</th>          <td>  2871</td>      <th>  BIC:               </th> <td>5.614e+04</td>\n",
       "</tr>\n",
       "<tr>\n",
       "  <th>Df Model:</th>              <td>     1</td>      <th>                     </th>     <td> </td>    \n",
       "</tr>\n",
       "<tr>\n",
       "  <th>Covariance Type:</th>      <td>nonrobust</td>    <th>                     </th>     <td> </td>    \n",
       "</tr>\n",
       "</table>\n",
       "<table class=\"simpletable\">\n",
       "<tr>\n",
       "   <td></td>     <th>coef</th>     <th>std err</th>      <th>t</th>      <th>P>|t|</th>  <th>[0.025</th>    <th>0.975]</th>  \n",
       "</tr>\n",
       "<tr>\n",
       "  <th>x1</th> <td>    1.0098</td> <td>    0.005</td> <td>  196.543</td> <td> 0.000</td> <td>    1.000</td> <td>    1.020</td>\n",
       "</tr>\n",
       "</table>\n",
       "<table class=\"simpletable\">\n",
       "<tr>\n",
       "  <th>Omnibus:</th>       <td>1344.345</td> <th>  Durbin-Watson:     </th> <td>   1.987</td> \n",
       "</tr>\n",
       "<tr>\n",
       "  <th>Prob(Omnibus):</th>  <td> 0.000</td>  <th>  Jarque-Bera (JB):  </th> <td>37627.184</td>\n",
       "</tr>\n",
       "<tr>\n",
       "  <th>Skew:</th>           <td> 1.632</td>  <th>  Prob(JB):          </th> <td>    0.00</td> \n",
       "</tr>\n",
       "<tr>\n",
       "  <th>Kurtosis:</th>       <td>20.429</td>  <th>  Cond. No.          </th> <td>    1.00</td> \n",
       "</tr>\n",
       "</table><br/><br/>Warnings:<br/>[1] Standard Errors assume that the covariance matrix of the errors is correctly specified."
      ],
      "text/plain": [
       "<class 'statsmodels.iolib.summary.Summary'>\n",
       "\"\"\"\n",
       "                            OLS Regression Results                            \n",
       "==============================================================================\n",
       "Dep. Variable:                  price   R-squared:                       0.931\n",
       "Model:                            OLS   Adj. R-squared:                  0.931\n",
       "Method:                 Least Squares   F-statistic:                 3.863e+04\n",
       "Date:                Mon, 24 Sep 2018   Prob (F-statistic):               0.00\n",
       "Time:                        01:11:26   Log-Likelihood:                -28065.\n",
       "No. Observations:                2872   AIC:                         5.613e+04\n",
       "Df Residuals:                    2871   BIC:                         5.614e+04\n",
       "Df Model:                           1                                         \n",
       "Covariance Type:            nonrobust                                         \n",
       "==============================================================================\n",
       "                 coef    std err          t      P>|t|      [0.025      0.975]\n",
       "------------------------------------------------------------------------------\n",
       "x1             1.0098      0.005    196.543      0.000       1.000       1.020\n",
       "==============================================================================\n",
       "Omnibus:                     1344.345   Durbin-Watson:                   1.987\n",
       "Prob(Omnibus):                  0.000   Jarque-Bera (JB):            37627.184\n",
       "Skew:                           1.632   Prob(JB):                         0.00\n",
       "Kurtosis:                      20.429   Cond. No.                         1.00\n",
       "==============================================================================\n",
       "\n",
       "Warnings:\n",
       "[1] Standard Errors assume that the covariance matrix of the errors is correctly specified.\n",
       "\"\"\""
      ]
     },
     "execution_count": 130,
     "metadata": {},
     "output_type": "execute_result"
    }
   ],
   "source": [
    "#With color:\n",
    "one_hot_encode_model = pd.get_dummies(data1_latent['model'])\n",
    "one_hot_encode_color = pd.get_dummies(data1_latent['color'])\n",
    "\n",
    "data3_df = pd.concat([data1_latent, one_hot_encode_color, one_hot_encode_model], axis=1)\n",
    "data3_df = data3_df.reset_index()\n",
    "X_temp = data3_df.loc[:, data3_df.columns != 'price']\n",
    "X_temp = X_temp.loc[:, X_temp.columns != 'model']\n",
    "X_temp = X_temp.loc[:, X_temp.columns != 'color']\n",
    "\n",
    "\n",
    "X = X_temp\n",
    "Y = data3_df['price']\n",
    "X_train, X_test, Y_train, Y_test  = train_test_split(X, Y , test_size = 0.3)\n",
    "lm.fit(X_train, Y_train)\n",
    "Y_pred = lm.predict(X_test)\n",
    "\n",
    "model = sm.OLS(Y_test, Y_pred)\n",
    "result = model.fit()\n",
    "result.summary()"
   ]
  },
  {
   "cell_type": "code",
   "execution_count": 127,
   "metadata": {},
   "outputs": [
    {
     "data": {
      "text/html": [
       "<table class=\"simpletable\">\n",
       "<caption>OLS Regression Results</caption>\n",
       "<tr>\n",
       "  <th>Dep. Variable:</th>          <td>price</td>      <th>  R-squared:         </th> <td>   0.933</td> \n",
       "</tr>\n",
       "<tr>\n",
       "  <th>Model:</th>                   <td>OLS</td>       <th>  Adj. R-squared:    </th> <td>   0.933</td> \n",
       "</tr>\n",
       "<tr>\n",
       "  <th>Method:</th>             <td>Least Squares</td>  <th>  F-statistic:       </th> <td>3.979e+04</td>\n",
       "</tr>\n",
       "<tr>\n",
       "  <th>Date:</th>             <td>Sun, 23 Sep 2018</td> <th>  Prob (F-statistic):</th>  <td>  0.00</td>  \n",
       "</tr>\n",
       "<tr>\n",
       "  <th>Time:</th>                 <td>20:41:51</td>     <th>  Log-Likelihood:    </th> <td> -28003.</td> \n",
       "</tr>\n",
       "<tr>\n",
       "  <th>No. Observations:</th>      <td>  2872</td>      <th>  AIC:               </th> <td>5.601e+04</td>\n",
       "</tr>\n",
       "<tr>\n",
       "  <th>Df Residuals:</th>          <td>  2871</td>      <th>  BIC:               </th> <td>5.601e+04</td>\n",
       "</tr>\n",
       "<tr>\n",
       "  <th>Df Model:</th>              <td>     1</td>      <th>                     </th>     <td> </td>    \n",
       "</tr>\n",
       "<tr>\n",
       "  <th>Covariance Type:</th>      <td>nonrobust</td>    <th>                     </th>     <td> </td>    \n",
       "</tr>\n",
       "</table>\n",
       "<table class=\"simpletable\">\n",
       "<tr>\n",
       "   <td></td>     <th>coef</th>     <th>std err</th>      <th>t</th>      <th>P>|t|</th>  <th>[0.025</th>    <th>0.975]</th>  \n",
       "</tr>\n",
       "<tr>\n",
       "  <th>x1</th> <td>    0.9982</td> <td>    0.005</td> <td>  199.467</td> <td> 0.000</td> <td>    0.988</td> <td>    1.008</td>\n",
       "</tr>\n",
       "</table>\n",
       "<table class=\"simpletable\">\n",
       "<tr>\n",
       "  <th>Omnibus:</th>       <td>1220.981</td> <th>  Durbin-Watson:     </th> <td>   1.960</td> \n",
       "</tr>\n",
       "<tr>\n",
       "  <th>Prob(Omnibus):</th>  <td> 0.000</td>  <th>  Jarque-Bera (JB):  </th> <td>30509.479</td>\n",
       "</tr>\n",
       "<tr>\n",
       "  <th>Skew:</th>           <td> 1.452</td>  <th>  Prob(JB):          </th> <td>    0.00</td> \n",
       "</tr>\n",
       "<tr>\n",
       "  <th>Kurtosis:</th>       <td>18.701</td>  <th>  Cond. No.          </th> <td>    1.00</td> \n",
       "</tr>\n",
       "</table><br/><br/>Warnings:<br/>[1] Standard Errors assume that the covariance matrix of the errors is correctly specified."
      ],
      "text/plain": [
       "<class 'statsmodels.iolib.summary.Summary'>\n",
       "\"\"\"\n",
       "                            OLS Regression Results                            \n",
       "==============================================================================\n",
       "Dep. Variable:                  price   R-squared:                       0.933\n",
       "Model:                            OLS   Adj. R-squared:                  0.933\n",
       "Method:                 Least Squares   F-statistic:                 3.979e+04\n",
       "Date:                Sun, 23 Sep 2018   Prob (F-statistic):               0.00\n",
       "Time:                        20:41:51   Log-Likelihood:                -28003.\n",
       "No. Observations:                2872   AIC:                         5.601e+04\n",
       "Df Residuals:                    2871   BIC:                         5.601e+04\n",
       "Df Model:                           1                                         \n",
       "Covariance Type:            nonrobust                                         \n",
       "==============================================================================\n",
       "                 coef    std err          t      P>|t|      [0.025      0.975]\n",
       "------------------------------------------------------------------------------\n",
       "x1             0.9982      0.005    199.467      0.000       0.988       1.008\n",
       "==============================================================================\n",
       "Omnibus:                     1220.981   Durbin-Watson:                   1.960\n",
       "Prob(Omnibus):                  0.000   Jarque-Bera (JB):            30509.479\n",
       "Skew:                           1.452   Prob(JB):                         0.00\n",
       "Kurtosis:                      18.701   Cond. No.                         1.00\n",
       "==============================================================================\n",
       "\n",
       "Warnings:\n",
       "[1] Standard Errors assume that the covariance matrix of the errors is correctly specified.\n",
       "\"\"\""
      ]
     },
     "execution_count": 127,
     "metadata": {},
     "output_type": "execute_result"
    }
   ],
   "source": [
    "#Without color\n",
    "\n",
    "one_hot_encode_model = pd.get_dummies(data1_latent['model'])\n",
    "\n",
    "data3_df = pd.concat([data1_latent, one_hot_encode_model], axis=1)\n",
    "\n",
    "data3_df = data3_df.reset_index()\n",
    "X_temp = data3_df.loc[:, data3_df.columns != 'price']\n",
    "X_temp = X_temp.loc[:, X_temp.columns != 'model']\n",
    "X_temp = X_temp.loc[:, X_temp.columns != 'color']\n",
    "\n",
    "X = X_temp\n",
    "Y = data3_df['price']\n",
    "X_train, X_test, Y_train, Y_test  = train_test_split(X, Y , test_size = 0.3)\n",
    "lm.fit(X_train, Y_train)\n",
    "Y_pred = lm.predict(X_test)\n",
    "\n",
    "model = sm.OLS(Y_test, Y_pred)\n",
    "result = model.fit()\n",
    "result.summary()"
   ]
  },
  {
   "cell_type": "code",
   "execution_count": 30,
   "metadata": {},
   "outputs": [
    {
     "data": {
      "text/plain": [
       "21466"
      ]
     },
     "execution_count": 30,
     "metadata": {},
     "output_type": "execute_result"
    }
   ],
   "source": [
    "#Extract only those rows where the make of the car is BMW\n",
    "data1_train_for_bmw = data1_subset_cleaned.drop(data1_subset_cleaned[data1_subset_cleaned.maker != \"bmw\"].index)\n",
    "data1_train_for_bmw.drop(['maker'], axis=1, inplace=True)\n",
    "\n",
    "#Select model, price and mileage\n",
    "data1_train_for_bmw = data1_train_for_bmw[['AgeOfCar', 'price_eur']]\n",
    "data1_train_for_bmw.head()\n",
    "data1_train_for_bmw.size"
   ]
  },
  {
   "cell_type": "code",
   "execution_count": 31,
   "metadata": {},
   "outputs": [
    {
     "data": {
      "text/html": [
       "<table class=\"simpletable\">\n",
       "<caption>OLS Regression Results</caption>\n",
       "<tr>\n",
       "  <th>Dep. Variable:</th>        <td>price_eur</td>    <th>  R-squared:         </th> <td>   0.612</td> \n",
       "</tr>\n",
       "<tr>\n",
       "  <th>Model:</th>                   <td>OLS</td>       <th>  Adj. R-squared:    </th> <td>   0.612</td> \n",
       "</tr>\n",
       "<tr>\n",
       "  <th>Method:</th>             <td>Least Squares</td>  <th>  F-statistic:       </th> <td>1.185e+04</td>\n",
       "</tr>\n",
       "<tr>\n",
       "  <th>Date:</th>             <td>Tue, 25 Sep 2018</td> <th>  Prob (F-statistic):</th>  <td>  0.00</td>  \n",
       "</tr>\n",
       "<tr>\n",
       "  <th>Time:</th>                 <td>18:39:16</td>     <th>  Log-Likelihood:    </th> <td> -86092.</td> \n",
       "</tr>\n",
       "<tr>\n",
       "  <th>No. Observations:</th>      <td>  7513</td>      <th>  AIC:               </th> <td>1.722e+05</td>\n",
       "</tr>\n",
       "<tr>\n",
       "  <th>Df Residuals:</th>          <td>  7512</td>      <th>  BIC:               </th> <td>1.722e+05</td>\n",
       "</tr>\n",
       "<tr>\n",
       "  <th>Df Model:</th>              <td>     1</td>      <th>                     </th>     <td> </td>    \n",
       "</tr>\n",
       "<tr>\n",
       "  <th>Covariance Type:</th>      <td>nonrobust</td>    <th>                     </th>     <td> </td>    \n",
       "</tr>\n",
       "</table>\n",
       "<table class=\"simpletable\">\n",
       "<tr>\n",
       "      <td></td>        <th>coef</th>     <th>std err</th>      <th>t</th>      <th>P>|t|</th>  <th>[0.025</th>    <th>0.975]</th>  \n",
       "</tr>\n",
       "<tr>\n",
       "  <th>AgeOfCar</th> <td> 5130.7407</td> <td>   47.138</td> <td>  108.846</td> <td> 0.000</td> <td> 5038.338</td> <td> 5223.144</td>\n",
       "</tr>\n",
       "</table>\n",
       "<table class=\"simpletable\">\n",
       "<tr>\n",
       "  <th>Omnibus:</th>       <td>590.386</td> <th>  Durbin-Watson:     </th> <td>   1.914</td> \n",
       "</tr>\n",
       "<tr>\n",
       "  <th>Prob(Omnibus):</th> <td> 0.000</td>  <th>  Jarque-Bera (JB):  </th> <td> 740.804</td> \n",
       "</tr>\n",
       "<tr>\n",
       "  <th>Skew:</th>          <td> 0.769</td>  <th>  Prob(JB):          </th> <td>1.37e-161</td>\n",
       "</tr>\n",
       "<tr>\n",
       "  <th>Kurtosis:</th>      <td> 2.956</td>  <th>  Cond. No.          </th> <td>    1.00</td> \n",
       "</tr>\n",
       "</table><br/><br/>Warnings:<br/>[1] Standard Errors assume that the covariance matrix of the errors is correctly specified."
      ],
      "text/plain": [
       "<class 'statsmodels.iolib.summary.Summary'>\n",
       "\"\"\"\n",
       "                            OLS Regression Results                            \n",
       "==============================================================================\n",
       "Dep. Variable:              price_eur   R-squared:                       0.612\n",
       "Model:                            OLS   Adj. R-squared:                  0.612\n",
       "Method:                 Least Squares   F-statistic:                 1.185e+04\n",
       "Date:                Tue, 25 Sep 2018   Prob (F-statistic):               0.00\n",
       "Time:                        18:39:16   Log-Likelihood:                -86092.\n",
       "No. Observations:                7513   AIC:                         1.722e+05\n",
       "Df Residuals:                    7512   BIC:                         1.722e+05\n",
       "Df Model:                           1                                         \n",
       "Covariance Type:            nonrobust                                         \n",
       "==============================================================================\n",
       "                 coef    std err          t      P>|t|      [0.025      0.975]\n",
       "------------------------------------------------------------------------------\n",
       "AgeOfCar    5130.7407     47.138    108.846      0.000    5038.338    5223.144\n",
       "==============================================================================\n",
       "Omnibus:                      590.386   Durbin-Watson:                   1.914\n",
       "Prob(Omnibus):                  0.000   Jarque-Bera (JB):              740.804\n",
       "Skew:                           0.769   Prob(JB):                    1.37e-161\n",
       "Kurtosis:                       2.956   Cond. No.                         1.00\n",
       "==============================================================================\n",
       "\n",
       "Warnings:\n",
       "[1] Standard Errors assume that the covariance matrix of the errors is correctly specified.\n",
       "\"\"\""
      ]
     },
     "execution_count": 31,
     "metadata": {},
     "output_type": "execute_result"
    }
   ],
   "source": [
    "lm  = LinearRegression()\n",
    "X = data1_train_for_bmw[['AgeOfCar']]\n",
    "Y = data1_train_for_bmw['price_eur']\n",
    "X_train, X_test, Y_train, Y_test  = train_test_split(X, Y , test_size = 0.3)\n",
    "lm.fit(X_train, Y_train)\n",
    "Y_pred = lm.predict(X_test)\n",
    "\n",
    "model = sm.OLS(Y_train, X_train)\n",
    "result = model.fit()\n",
    "result.summary()"
   ]
  },
  {
   "cell_type": "code",
   "execution_count": null,
   "metadata": {},
   "outputs": [],
   "source": []
  }
 ],
 "metadata": {
  "kernelspec": {
   "display_name": "Python 3",
   "language": "python",
   "name": "python3"
  },
  "language_info": {
   "codemirror_mode": {
    "name": "ipython",
    "version": 3
   },
   "file_extension": ".py",
   "mimetype": "text/x-python",
   "name": "python",
   "nbconvert_exporter": "python",
   "pygments_lexer": "ipython3",
   "version": "3.6.5"
  }
 },
 "nbformat": 4,
 "nbformat_minor": 2
}
